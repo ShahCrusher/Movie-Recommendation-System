{
  "cells": [
    {
      "cell_type": "code",
      "source": [
        "import pandas as pd\n",
        "import numpy as np\n",
        "import sklearn"
      ],
      "metadata": {
        "id": "98GULi4i8Tpb"
      },
      "execution_count": 2,
      "outputs": []
    },
    {
      "cell_type": "code",
      "source": [
        "print('pandas',np.array(pd.__version__))\n",
        "print('nump',np.array(np.__version__))\n",
        "print('sklearn',np.array(sklearn.__version__))"
      ],
      "metadata": {
        "id": "LRmApwnE8VBn",
        "outputId": "3ae29a8c-be23-49b3-96a4-8d1711285bc6",
        "colab": {
          "base_uri": "https://localhost:8080/"
        }
      },
      "execution_count": 3,
      "outputs": [
        {
          "output_type": "stream",
          "name": "stdout",
          "text": [
            "pandas 2.1.4\n",
            "nump 1.26.4\n",
            "sklearn 1.3.2\n"
          ]
        }
      ]
    },
    {
      "cell_type": "code",
      "source": [
        "#Load movies data\n",
        "movies=pd.read_csv(\"/content/drive/MyDrive/tmdb_5000_movies.csv\")\n",
        "\n",
        "#load credit data\n",
        "credit=pd.read_csv(\"/content/drive/MyDrive/tmdb_5000_credits.csv\")\n",
        "\n",
        "\n",
        "#join two dataframe based on title\n",
        "movies=movies.merge(credit,on='title')\n",
        "\n",
        "#count the langage based\n",
        "movies['original_language'].value_counts()\n",
        "\n",
        "#select the specific column\n",
        "movies=movies[['movie_id','title','overview','genres','keywords','cast','crew']]\n",
        "\n",
        "#check null data\n",
        "movies.isnull().sum()\n",
        "\n",
        "\n",
        "#drop null data\n",
        "movies.dropna(inplace=True)\n",
        "\n",
        "#check again\n",
        "movies.isnull().sum()\n",
        "\n",
        "#check duplicate data\n",
        "movies.duplicated().sum()\n",
        "\n",
        "movies.iloc[0].genres\n",
        "\n",
        "\n",
        "#change generes column into array format\n",
        "import ast      #for change to string import library\n",
        "def convert(obj):\n",
        "    lst=[]\n",
        "    for i in ast.literal_eval(obj):\n",
        "        lst.append(i['name'])\n",
        "    return lst\n",
        "\n",
        "movies['genres']=movies['genres'].apply(convert)\n",
        "\n",
        "#change keyword column into array format\n",
        "movies['keywords']=movies['keywords'].apply(convert)\n",
        "\n",
        "#select top3 cast name in cast column\n",
        "def convert_cast(obj):\n",
        "    lst=[]\n",
        "    counter=0\n",
        "    for i in ast.literal_eval(obj):\n",
        "        if counter !=3:\n",
        "            lst.append(i['name'])\n",
        "            counter+=1\n",
        "        else:\n",
        "            break\n",
        "    return lst\n",
        "\n",
        "movies['cast']=movies['cast'].apply(convert_cast)\n",
        "\n",
        "#crew column through get director name\n",
        "def fetch_director(obj):\n",
        "    lst=[]\n",
        "    for i in ast.literal_eval(obj):\n",
        "        if i['job']=='Director':\n",
        "            lst.append(i['name'])\n",
        "            break\n",
        "    return lst\n",
        "\n",
        "movies['crew']=movies['crew'].apply(fetch_director)\n",
        "\n",
        "#overview column to split with space and make word\n",
        "movies['overview']=movies['overview'].apply(lambda x:x.split())\n",
        "\n",
        "#transform data between spaces\n",
        "movies['genres']=movies['genres'].apply(lambda x:[i.replace(\" \",\"\")for i in x])\n",
        "movies['keywords']=movies['keywords'].apply(lambda x:[i.replace(\" \",\"\")for i in x])\n",
        "movies['cast']=movies['cast'].apply(lambda x:[i.replace(\" \",\"\")for i in x])\n",
        "movies['crew']=movies['crew'].apply(lambda x:[i.replace(\" \",\"\")for i in x])\n",
        "\n",
        "#create tags column from oveview,keywors,genres,cast,crew column\n",
        "movies['tags']=movies['overview']+movies['keywords']+movies['genres']+movies['cast']+movies['crew']\n",
        "\n",
        "#take only get required column\n",
        "new_df=movies[['movie_id','title','tags']]\n",
        "\n",
        "#convert overview column to list to string\n",
        "new_df['tags']=new_df['tags'].apply(lambda x:\" \".join(x))\n",
        "\n",
        "#make lowecase of overview column\n",
        "new_df['tags']=new_df['tags'].apply(lambda x:x.lower())\n",
        "\n",
        "#Machine Learning\n",
        "#Make vectorization of tags column\n",
        "from sklearn.feature_extraction.text import CountVectorizer\n",
        "cv = CountVectorizer(max_features=5000,stop_words='english')\n",
        "\n",
        "#avoid same words like going,gone,go\n",
        "import nltk\n",
        "from nltk.stem.porter import PorterStemmer\n",
        "ps = PorterStemmer()\n",
        "\n",
        "\n",
        "def stem(text):\n",
        "    y=[]\n",
        "    for i in text.split():\n",
        "        y.append(ps.stem(i))\n",
        "    return \" \".join(y)\n",
        "\n",
        "new_df['tags']=new_df['tags'].apply(stem)\n",
        "\n",
        "#create vector\n",
        "vectors=cv.fit_transform(new_df['tags']).toarray()\n",
        "\n",
        "#take words from corpus\n",
        "cv.get_feature_names_out()\n",
        "\n",
        "#similartity find cosine Simliraty\n",
        "from sklearn.metrics.pairwise import cosine_similarity\n",
        "\n",
        "#find distance\n",
        "similarity=cosine_similarity(vectors)\n",
        "\n",
        "#recomedantation\n",
        "def recomend(movie):\n",
        "    movie_index=new_df[new_df['title']==movie].index[0]\n",
        "    distances =similarity[movie_index]\n",
        "    movies_list=sorted(list(enumerate(distances)),reverse=True,key=lambda x:x[1])[1:11]\n",
        "\n",
        "    for i in movies_list:\n",
        "        print(new_df.iloc[i[0]].title)\n",
        "\n"
      ],
      "metadata": {
        "id": "6mFyIxja-Lwr",
        "outputId": "9008b13f-f424-4669-9cfb-4aea6aeefddd",
        "colab": {
          "base_uri": "https://localhost:8080/"
        }
      },
      "execution_count": 5,
      "outputs": [
        {
          "output_type": "stream",
          "name": "stderr",
          "text": [
            "<ipython-input-5-77ce72dca854>:87: SettingWithCopyWarning: \n",
            "A value is trying to be set on a copy of a slice from a DataFrame.\n",
            "Try using .loc[row_indexer,col_indexer] = value instead\n",
            "\n",
            "See the caveats in the documentation: https://pandas.pydata.org/pandas-docs/stable/user_guide/indexing.html#returning-a-view-versus-a-copy\n",
            "  new_df['tags']=new_df['tags'].apply(lambda x:\" \".join(x))\n",
            "<ipython-input-5-77ce72dca854>:90: SettingWithCopyWarning: \n",
            "A value is trying to be set on a copy of a slice from a DataFrame.\n",
            "Try using .loc[row_indexer,col_indexer] = value instead\n",
            "\n",
            "See the caveats in the documentation: https://pandas.pydata.org/pandas-docs/stable/user_guide/indexing.html#returning-a-view-versus-a-copy\n",
            "  new_df['tags']=new_df['tags'].apply(lambda x:x.lower())\n",
            "<ipython-input-5-77ce72dca854>:109: SettingWithCopyWarning: \n",
            "A value is trying to be set on a copy of a slice from a DataFrame.\n",
            "Try using .loc[row_indexer,col_indexer] = value instead\n",
            "\n",
            "See the caveats in the documentation: https://pandas.pydata.org/pandas-docs/stable/user_guide/indexing.html#returning-a-view-versus-a-copy\n",
            "  new_df['tags']=new_df['tags'].apply(stem)\n"
          ]
        }
      ]
    },
    {
      "cell_type": "code",
      "source": [
        "import pickle"
      ],
      "metadata": {
        "id": "FSl_OpDH-2S2"
      },
      "execution_count": 9,
      "outputs": []
    },
    {
      "cell_type": "code",
      "source": [
        "pickle.dump(new_df.to_dict(),open('movies_dict.pkl','wb'))"
      ],
      "metadata": {
        "id": "P09am8w8FHtt"
      },
      "execution_count": 8,
      "outputs": []
    },
    {
      "cell_type": "code",
      "source": [
        "pickle.dump(similarity,open('similarity.pkl','wb'))"
      ],
      "metadata": {
        "id": "L_Qx-4AnGjx4"
      },
      "execution_count": 11,
      "outputs": []
    },
    {
      "cell_type": "markdown",
      "source": [],
      "metadata": {
        "id": "DEcI7psXIMuj"
      }
    }
  ],
  "metadata": {
    "colab": {
      "name": "Welcome To Colab",
      "provenance": []
    },
    "kernelspec": {
      "display_name": "Python 3",
      "name": "python3"
    }
  },
  "nbformat": 4,
  "nbformat_minor": 0
}